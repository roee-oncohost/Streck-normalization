{
 "cells": [
  {
   "cell_type": "code",
   "execution_count": null,
   "id": "6325db42",
   "metadata": {},
   "outputs": [],
   "source": []
  },
  {
   "cell_type": "markdown",
   "id": "045dbe59",
   "metadata": {},
   "source": [
    "# Simple bridging"
   ]
  },
  {
   "cell_type": "markdown",
   "id": "0e695eea",
   "metadata": {},
   "source": [
    "Take streck samples\n",
    "\n",
    "Bridge\n",
    "\n",
    "Get stats on differences between bridged results and EDTA\n",
    "\n",
    "Try bridging PER DILUTION\n",
    "\n",
    "Get stats on differences after normalizations\n",
    "\n",
    "Get stats on post-normalization bridging\n",
    "\n",
    "Get stats on PROphet score differences\n"
   ]
  },
  {
   "cell_type": "markdown",
   "id": "44dce5d2",
   "metadata": {},
   "source": [
    "# Full normalization"
   ]
  },
  {
   "cell_type": "markdown",
   "id": "52b27d5d",
   "metadata": {},
   "source": []
  },
  {
   "cell_type": "markdown",
   "id": "ceafca6a",
   "metadata": {},
   "source": []
  },
  {
   "cell_type": "markdown",
   "id": "9fe10213",
   "metadata": {},
   "source": []
  },
  {
   "cell_type": "code",
   "execution_count": null,
   "id": "cffba5ea",
   "metadata": {},
   "outputs": [],
   "source": []
  },
  {
   "cell_type": "code",
   "execution_count": null,
   "id": "e0fd4834",
   "metadata": {},
   "outputs": [],
   "source": []
  },
  {
   "cell_type": "code",
   "execution_count": null,
   "id": "0f31b26a",
   "metadata": {},
   "outputs": [],
   "source": []
  },
  {
   "cell_type": "code",
   "execution_count": null,
   "id": "af7afa74",
   "metadata": {},
   "outputs": [],
   "source": []
  }
 ],
 "metadata": {
  "language_info": {
   "name": "python"
  }
 },
 "nbformat": 4,
 "nbformat_minor": 5
}
